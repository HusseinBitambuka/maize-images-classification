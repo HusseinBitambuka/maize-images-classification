{
  "nbformat": 4,
  "nbformat_minor": 0,
  "metadata": {
    "colab": {
      "provenance": [],
      "machine_shape": "hm",
      "gpuType": "T4",
      "authorship_tag": "ABX9TyPrdIVdHxAR9/6gD6GXQHUj",
      "include_colab_link": true
    },
    "kernelspec": {
      "name": "python3",
      "display_name": "Python 3"
    },
    "language_info": {
      "name": "python"
    },
    "accelerator": "GPU"
  },
  "cells": [
    {
      "cell_type": "markdown",
      "metadata": {
        "id": "view-in-github",
        "colab_type": "text"
      },
      "source": [
        "<a href=\"https://colab.research.google.com/github/HusseinBitambuka/maize-images-classification/blob/main/maize_disease_classification.ipynb\" target=\"_parent\"><img src=\"https://colab.research.google.com/assets/colab-badge.svg\" alt=\"Open In Colab\"/></a>"
      ]
    },
    {
      "cell_type": "code",
      "source": [
        "!pip install rarfile\n"
      ],
      "metadata": {
        "colab": {
          "base_uri": "https://localhost:8080/"
        },
        "id": "ULYBo7DX4Qfi",
        "outputId": "1cfe121f-e16e-4308-bf93-12bf2c24917c"
      },
      "execution_count": 1,
      "outputs": [
        {
          "output_type": "stream",
          "name": "stdout",
          "text": [
            "Requirement already satisfied: rarfile in /usr/local/lib/python3.10/dist-packages (4.1)\n"
          ]
        }
      ]
    },
    {
      "cell_type": "code",
      "execution_count": 14,
      "metadata": {
        "id": "bgVBZK9YEVVv"
      },
      "outputs": [],
      "source": [
        "import tensorflow as tf\n",
        "from tensorflow import keras\n",
        "import pandas as pd\n",
        "import numpy as np\n",
        "from google.colab import drive\n",
        "import shutil\n",
        "import os\n",
        "from sklearn.model_selection import train_test_split\n",
        "from tensorflow.keras import layers, models\n",
        "from sklearn.preprocessing import LabelEncoder\n",
        "import cv2\n",
        "import matplotlib.pyplot as plt\n"
      ]
    },
    {
      "cell_type": "code",
      "source": [
        "\n",
        "drive.mount('/content/drive/')"
      ],
      "metadata": {
        "colab": {
          "base_uri": "https://localhost:8080/"
        },
        "id": "mKRXIAEp289A",
        "outputId": "96cdc68c-8a88-4e5b-e5b8-4379e36e466f"
      },
      "execution_count": null,
      "outputs": [
        {
          "output_type": "stream",
          "name": "stdout",
          "text": [
            "Mounted at /content/drive/\n"
          ]
        }
      ]
    },
    {
      "cell_type": "code",
      "source": [
        "'''\n",
        "zip_file_path = '/content/drive/MyDrive/dataverse_files.zip'\n",
        "\n",
        "# Path to the directory where you want to extract the contents\n",
        "extracted_dir_path = '/content/extracted_data'\n",
        "\n",
        "\n",
        "# Create the directory for extracted data\n",
        "os.makedirs(extracted_dir_path, exist_ok=True)\n",
        "\n",
        "# Unzip the contents of the zip file in Google Drive\n",
        "!unzip -q \"$zip_file_path\" -d \"$extracted_dir_path\"\n",
        "\n",
        "# Path to the destination directory in Google Drive\n",
        "destination_dir = '/content/drive/MyDrive/dataverse_df'\n",
        "\n",
        "# Create the destination directory if it doesn't exist\n",
        "\n",
        "if not os.path.exists(destination_dir):\n",
        "    os.makedirs(destination_dir)\n",
        "# Move the extracted folder to the destination directory in Google Drive\n",
        "!mv \"$extracted_dir_path\" \"$destination_dir\"\n",
        "\n",
        "print('Zip folder extracted and moved to Google Drive successfully!')\n",
        "\n",
        "'''\n"
      ],
      "metadata": {
        "colab": {
          "base_uri": "https://localhost:8080/"
        },
        "id": "34rKqqF23TyU",
        "outputId": "11328c05-06e3-4b44-ee9d-875beb95fa2d"
      },
      "execution_count": null,
      "outputs": [
        {
          "output_type": "stream",
          "name": "stdout",
          "text": [
            "Zip folder extracted and moved to Google Drive successfully!\n"
          ]
        }
      ]
    },
    {
      "cell_type": "code",
      "source": [
        "'''\n",
        "# Path to the directory containing RAR files in Google Drive\n",
        "rar_files_dir = '/content/drive/MyDrive/dataverse_df/extracted_data'\n",
        "\n",
        "# Path to the directory where you want to save the extracted images\n",
        "output_dir = '/content/drive/MyDrive/extracted_images'\n",
        "\n",
        "# Create the directory for extracted images\n",
        "os.makedirs(output_dir, exist_ok=True)\n",
        "\n",
        "# Iterate over the files in the directory\n",
        "for file_name in os.listdir(rar_files_dir):\n",
        "    file_path = os.path.join(rar_files_dir, file_name)\n",
        "    if os.path.isfile(file_path) and file_name.lower().endswith('.rar'):\n",
        "        # Extract the images from the RAR file\n",
        "        with rarfile.RarFile(file_path, 'r') as rar_ref:\n",
        "            for member in rar_ref.infolist():\n",
        "                # Check if the file is an image (you can adjust the image extensions as needed)\n",
        "                if member.filename.lower().endswith(('.jpg', '.jpeg', '.png', '.gif', '.bmp')):\n",
        "                    # Extract the image file\n",
        "                    rar_ref.extract(member, path=output_dir)\n",
        "\n",
        "print('Images extracted and saved to Google Drive successfully!')\n",
        "\n",
        "'''\n",
        "\n"
      ],
      "metadata": {
        "colab": {
          "base_uri": "https://localhost:8080/"
        },
        "id": "-DO7A-Mn4wBA",
        "outputId": "5406ea46-5471-4928-ce34-c3584ad86df5"
      },
      "execution_count": null,
      "outputs": [
        {
          "output_type": "stream",
          "name": "stdout",
          "text": [
            "Images extracted and saved to Google Drive successfully!\n"
          ]
        }
      ]
    },
    {
      "cell_type": "code",
      "source": [
        "def load_data(parent_folder, width, height):\n",
        "    images = []\n",
        "    labels = []\n",
        "    label_map = {'Healthy_1': 'Healthy', 'Healthy_2': 'Healthy',\n",
        "                 'MLB_1': 'MLB', 'MLB_2': 'MLB',\n",
        "                 'MSV_1': 'MSV', 'MSV_2': 'MSV'}\n",
        "\n",
        "    for folder_name in os.listdir(parent_folder):\n",
        "        folder_path = os.path.join(parent_folder, folder_name)\n",
        "        if os.path.isdir(folder_path):\n",
        "            for file_name in os.listdir(folder_path):\n",
        "                image_path = os.path.join(folder_path, file_name)\n",
        "                image = cv2.imread(image_path)\n",
        "                # Resize the image to a fixed size if needed\n",
        "                image = cv2.resize(image, (width, height))\n",
        "                images.append(image)\n",
        "                labels.append(label_map[folder_name])\n",
        "\n",
        "    return images, labels"
      ],
      "metadata": {
        "id": "_n8GCfnc3KB9"
      },
      "execution_count": 3,
      "outputs": []
    },
    {
      "cell_type": "markdown",
      "source": [
        "# New Section"
      ],
      "metadata": {
        "id": "RSE9gqfFGttw"
      }
    },
    {
      "cell_type": "code",
      "source": [
        "# Path to the parent folder containing the images\n",
        "parent_folder = '/content/drive/MyDrive/extracted_images'\n",
        "width = 100\n",
        "height = 100\n",
        "# Load images and labels\n",
        "images, labels = load_data(parent_folder, width, height)\n",
        "\n",
        "# Convert lists to numpy arrays\n",
        "images = np.array(images)\n",
        "labels = np.array(labels)\n",
        "\n",
        "# Split the data into training and testing sets\n",
        "train_images, test_images, train_labels, test_labels = train_test_split(images, labels, test_size=0.25, random_state=42)\n",
        "# Preprocess the images (normalize pixel values)\n",
        "train_images = train_images.astype('float32') / 255.0\n",
        "test_images = test_images.astype('float32') / 255.0\n",
        "\n"
      ],
      "metadata": {
        "id": "RnrO99gF0gvj"
      },
      "execution_count": 4,
      "outputs": []
    },
    {
      "cell_type": "code",
      "source": [
        "# Initialize LabelEncoder\n",
        "label_encoder = LabelEncoder()\n",
        "\n",
        "# Fit and transform label encoder on training labels\n",
        "train_labels_encoded = label_encoder.fit_transform(train_labels)\n",
        "\n",
        "# Transform test labels using the fitted label encoder\n",
        "test_labels_encoded = label_encoder.transform(test_labels)"
      ],
      "metadata": {
        "id": "sHHjmhAzC-B8"
      },
      "execution_count": 12,
      "outputs": []
    },
    {
      "cell_type": "code",
      "source": [
        "\n",
        "# Define the CNN model\n",
        "model = models.Sequential([\n",
        "    layers.Conv2D(32, (3, 3), activation='relu', input_shape=(100, 100, 3)),\n",
        "    layers.MaxPooling2D((2, 2)),\n",
        "    layers.Conv2D(64, (3, 3), activation='relu'),\n",
        "    layers.MaxPooling2D((2, 2)),\n",
        "    layers.Conv2D(64, (3, 3), activation='relu'),\n",
        "    layers.Flatten(),\n",
        "    layers.Dense(64, activation='relu'),\n",
        "    layers.Dense(3)  # No activation function in the last layer\n",
        "])\n",
        "\n",
        "# Compile the model with sparse categorical crossentropy loss\n",
        "model.compile(optimizer='adam',\n",
        "              loss=tf.keras.losses.SparseCategoricalCrossentropy(from_logits=True),\n",
        "              metrics=['accuracy'])\n"
      ],
      "metadata": {
        "id": "ZhOkHmMG4Qmg"
      },
      "execution_count": 9,
      "outputs": []
    },
    {
      "cell_type": "code",
      "source": [
        "\n",
        "# Get the training history\n",
        "history = model.fit(train_images, train_labels_encoded, epochs=10, batch_size=32, validation_data=(test_images, test_labels_encoded))\n",
        "\n",
        "# Plot training and validation loss\n",
        "plt.plot(history.history['loss'], label='Training Loss')\n",
        "plt.plot(history.history['val_loss'], label='Validation Loss')\n",
        "plt.xlabel('Epoch')\n",
        "plt.ylabel('Loss')\n",
        "plt.title('Training and Validation Loss')\n",
        "plt.legend()\n",
        "plt.show()\n",
        "\n",
        "# Plot training and validation accuracy\n",
        "plt.plot(history.history['accuracy'], label='Training Accuracy')\n",
        "plt.plot(history.history['val_accuracy'], label='Validation Accuracy')\n",
        "plt.xlabel('Epoch')\n",
        "plt.ylabel('Accuracy')\n",
        "plt.title('Training and Validation Accuracy')\n",
        "plt.legend()\n",
        "plt.show()\n",
        "\n"
      ],
      "metadata": {
        "id": "hS26r9OM4Cbi",
        "colab": {
          "base_uri": "https://localhost:8080/",
          "height": 1000
        },
        "outputId": "f9609ff8-e08e-4dba-ab1e-31bc4d555350"
      },
      "execution_count": 15,
      "outputs": [
        {
          "output_type": "stream",
          "name": "stdout",
          "text": [
            "Epoch 1/10\n",
            "371/371 [==============================] - 6s 16ms/step - loss: 1.4822e-04 - accuracy: 1.0000 - val_loss: 0.3534 - val_accuracy: 0.9474\n",
            "Epoch 2/10\n",
            "371/371 [==============================] - 5s 13ms/step - loss: 7.5284e-05 - accuracy: 1.0000 - val_loss: 0.3641 - val_accuracy: 0.9484\n",
            "Epoch 3/10\n",
            "371/371 [==============================] - 5s 13ms/step - loss: 5.3089e-05 - accuracy: 1.0000 - val_loss: 0.3723 - val_accuracy: 0.9479\n",
            "Epoch 4/10\n",
            "371/371 [==============================] - 5s 13ms/step - loss: 3.9749e-05 - accuracy: 1.0000 - val_loss: 0.3802 - val_accuracy: 0.9484\n",
            "Epoch 5/10\n",
            "371/371 [==============================] - 5s 14ms/step - loss: 3.0988e-05 - accuracy: 1.0000 - val_loss: 0.3888 - val_accuracy: 0.9492\n",
            "Epoch 6/10\n",
            "371/371 [==============================] - 5s 13ms/step - loss: 2.4418e-05 - accuracy: 1.0000 - val_loss: 0.3959 - val_accuracy: 0.9482\n",
            "Epoch 7/10\n",
            "371/371 [==============================] - 5s 13ms/step - loss: 1.9769e-05 - accuracy: 1.0000 - val_loss: 0.4020 - val_accuracy: 0.9487\n",
            "Epoch 8/10\n",
            "371/371 [==============================] - 5s 13ms/step - loss: 1.5893e-05 - accuracy: 1.0000 - val_loss: 0.4095 - val_accuracy: 0.9477\n",
            "Epoch 9/10\n",
            "371/371 [==============================] - 5s 13ms/step - loss: 1.2544e-05 - accuracy: 1.0000 - val_loss: 0.4176 - val_accuracy: 0.9479\n",
            "Epoch 10/10\n",
            "371/371 [==============================] - 5s 14ms/step - loss: 1.0369e-05 - accuracy: 1.0000 - val_loss: 0.4248 - val_accuracy: 0.9474\n"
          ]
        },
        {
          "output_type": "display_data",
          "data": {
            "text/plain": [
              "<Figure size 640x480 with 1 Axes>"
            ],
            "image/png": "[encoded data removed]"
          },
          "metadata": {}
        },
        {
          "output_type": "display_data",
          "data": {
            "text/plain": [
              "<Figure size 640x480 with 1 Axes>"
            ],
            "image/png": "[encoded data removed]"
          },
          "metadata": {}
        }
      ]
    },
    {
      "cell_type": "markdown",
      "source": [
        "The graph I ploted it after trainig the model."
      ],
      "metadata": {
        "id": "f9mfGoBfGs0g"
      }
    }
  ]
}